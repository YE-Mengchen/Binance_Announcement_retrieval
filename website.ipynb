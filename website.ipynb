{
 "cells": [
  {
   "cell_type": "code",
   "execution_count": 1,
   "id": "7c6127e6-ea74-409f-aee1-3bd9f806b334",
   "metadata": {},
   "outputs": [
    {
     "name": "stdout",
     "output_type": "stream",
     "text": [
      "Initial en announcement set: Notice of Removal of Spot Trading Pairs - 2024-02-09\n",
      "Initial zh announcement set: 币安移除部分现货交易对的公告 - 2024-02-09\n"
     ]
    },
    {
     "ename": "KeyboardInterrupt",
     "evalue": "",
     "output_type": "error",
     "traceback": [
      "\u001b[0;31m---------------------------------------------------------------------------\u001b[0m",
      "\u001b[0;31mKeyboardInterrupt\u001b[0m                         Traceback (most recent call last)",
      "Cell \u001b[0;32mIn[1], line 38\u001b[0m\n\u001b[1;32m     36\u001b[0m     \u001b[38;5;28;01melse\u001b[39;00m:\n\u001b[1;32m     37\u001b[0m         \u001b[38;5;28mprint\u001b[39m(\u001b[38;5;124mf\u001b[39m\u001b[38;5;124m\"\u001b[39m\u001b[38;5;124mFailed to retrieve the \u001b[39m\u001b[38;5;132;01m{\u001b[39;00mlang\u001b[38;5;132;01m}\u001b[39;00m\u001b[38;5;124m web page.\u001b[39m\u001b[38;5;124m\"\u001b[39m)\n\u001b[0;32m---> 38\u001b[0m \u001b[43mtime\u001b[49m\u001b[38;5;241;43m.\u001b[39;49m\u001b[43msleep\u001b[49m\u001b[43m(\u001b[49m\u001b[38;5;241;43m6\u001b[39;49m\u001b[43m)\u001b[49m\n",
      "\u001b[0;31mKeyboardInterrupt\u001b[0m: "
     ]
    }
   ],
   "source": [
    "import requests\n",
    "from bs4 import BeautifulSoup\n",
    "import time\n",
    "from datetime import datetime\n",
    "\n",
    "# 设置中英文公告的URLs\n",
    "urls = {\n",
    "    'en': 'https://www.binance.com/en/support/announcement',\n",
    "    'zh': 'https://www.binance.com/zh-CN/support/announcement'\n",
    "}\n",
    "\n",
    "last_announcements_text = {'en': None, 'zh': None}\n",
    "\n",
    "while True:\n",
    "    for lang, url in urls.items():\n",
    "        response = requests.get(url)\n",
    "        \n",
    "        if response.status_code == 200:\n",
    "            soup = BeautifulSoup(response.text, 'html.parser')\n",
    "            \n",
    "            selected_a = soup.select_one('#app-wrap > div:first-of-type > div:first-of-type > div:nth-of-type(4) > div:first-of-type > div:first-of-type > div:first-of-type > div:nth-of-type(3) > div:first-of-type a')\n",
    "            \n",
    "            if selected_a:\n",
    "                current_announcement_text = selected_a.get_text(strip=True)\n",
    "                \n",
    "                if last_announcements_text[lang] is None:\n",
    "                    last_announcements_text[lang] = current_announcement_text\n",
    "                    print(f\"Initial {lang} announcement set: {current_announcement_text}\")\n",
    "\n",
    "                elif current_announcement_text != last_announcements_text[lang]:\n",
    "                    last_announcements_text[lang] = current_announcement_text\n",
    "                    \n",
    "                    now = datetime.now().strftime('%Y-%m-%d %H:%M:%S')\n",
    "                    print(f\"Time: {now}, Language: {lang}, New Announcement Text: {current_announcement_text}\")\n",
    "\n",
    "        else:\n",
    "            print(f\"Failed to retrieve the {lang} web page.\")\n",
    "    time.sleep(6)\n",
    "    \n"
   ]
  },
  {
   "cell_type": "code",
   "execution_count": null,
   "id": "2fc8053e-0fdd-449d-8fd7-8836cb841657",
   "metadata": {},
   "outputs": [],
   "source": []
  },
  {
   "cell_type": "code",
   "execution_count": null,
   "id": "e151b234-0f16-426e-80b8-5be1fc307f72",
   "metadata": {},
   "outputs": [],
   "source": []
  }
 ],
 "metadata": {
  "kernelspec": {
   "display_name": "Python 3 (ipykernel)",
   "language": "python",
   "name": "python3"
  },
  "language_info": {
   "codemirror_mode": {
    "name": "ipython",
    "version": 3
   },
   "file_extension": ".py",
   "mimetype": "text/x-python",
   "name": "python",
   "nbconvert_exporter": "python",
   "pygments_lexer": "ipython3",
   "version": "3.11.5"
  }
 },
 "nbformat": 4,
 "nbformat_minor": 5
}
