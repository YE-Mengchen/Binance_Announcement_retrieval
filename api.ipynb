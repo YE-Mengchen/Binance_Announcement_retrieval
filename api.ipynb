{
 "cells": [
  {
   "cell_type": "code",
   "execution_count": 1,
   "id": "c963c52b-5511-4ad7-89a0-04af4971b72d",
   "metadata": {},
   "outputs": [
    {
     "ename": "ModuleNotFoundError",
     "evalue": "No module named 'requests'",
     "output_type": "error",
     "traceback": [
      "\u001b[1;31m---------------------------------------------------------------------------\u001b[0m",
      "\u001b[1;31mModuleNotFoundError\u001b[0m                       Traceback (most recent call last)",
      "Cell \u001b[1;32mIn[1], line 1\u001b[0m\n\u001b[1;32m----> 1\u001b[0m \u001b[38;5;28;01mimport\u001b[39;00m \u001b[38;5;21;01mrequests\u001b[39;00m\n\u001b[0;32m      2\u001b[0m \u001b[38;5;28;01mimport\u001b[39;00m \u001b[38;5;21;01mtime\u001b[39;00m\n\u001b[0;32m      3\u001b[0m \u001b[38;5;28;01mfrom\u001b[39;00m \u001b[38;5;21;01mdatetime\u001b[39;00m \u001b[38;5;28;01mimport\u001b[39;00m datetime\n",
      "\u001b[1;31mModuleNotFoundError\u001b[0m: No module named 'requests'"
     ]
    }
   ],
   "source": [
    "import requests\n",
    "import time\n",
    "from datetime import datetime\n",
    "\n",
    "api_url = 'https://www.binance.com/bapi/composite/v1/public/cms/article/catalog/list/query?catalogId=48&pageNo=1&pageSize=1'\n",
    "\n",
    "last_article_title = None\n",
    "\n",
    "while True:\n",
    "\n",
    "    response = requests.get(api_url)\n",
    "\n",
    "    if response.status_code == 200:\n",
    "\n",
    "        data = response.json()\n",
    "\n",
    "        if data['code'] == '000000' and data['success']:\n",
    "\n",
    "            article = data['data']['articles'][0]\n",
    "            current_article_title = article['title'] \n",
    "\n",
    "            if last_article_title is None:\n",
    "                last_article_title = current_article_title\n",
    "                print(last_article_title)\n",
    "            elif current_article_title != last_article_title:\n",
    "                last_article_title = current_article_title\n",
    "                now = datetime.now().strftime('%Y-%m-%d %H:%M:%S') \n",
    "                print(f\"Time: {now}, New Article Detected: {current_article_title}\")\n",
    "                \n",
    "        else:\n",
    "            print(\"Failed to retrieve valid article data from Binance.\")\n",
    "    else:\n",
    "        print(\"Failed to retrieve data from API.\")\n",
    "\n",
    "    time.sleep(2)\n"
   ]
  },
  {
   "cell_type": "code",
   "execution_count": null,
   "id": "a6df7007-42b1-440a-aeb0-255d405a35f1",
   "metadata": {},
   "outputs": [],
   "source": []
  }
 ],
 "metadata": {
  "kernelspec": {
   "display_name": "Python 3 (ipykernel)",
   "language": "python",
   "name": "python3"
  },
  "language_info": {
   "codemirror_mode": {
    "name": "ipython",
    "version": 3
   },
   "file_extension": ".py",
   "mimetype": "text/x-python",
   "name": "python",
   "nbconvert_exporter": "python",
   "pygments_lexer": "ipython3",
   "version": "3.9.13"
  }
 },
 "nbformat": 4,
 "nbformat_minor": 5
}
